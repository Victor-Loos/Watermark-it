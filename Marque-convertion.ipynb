{
 "cells": [
  {
   "cell_type": "markdown",
   "metadata": {},
   "source": [
    "import all the necesarry library"
   ]
  },
  {
   "cell_type": "code",
   "execution_count": 1,
   "metadata": {},
   "outputs": [],
   "source": [
    "import numpy as np\n",
    "import pywt\n",
    "import os\n",
    "import cv2\n",
    "import matplotlib.pyplot as plt\n",
    "from PIL import Image\n",
    "import math\n",
    "from scipy.fftpack import dct\n",
    "from scipy.fftpack import idct\n"
   ]
  },
  {
   "attachments": {},
   "cell_type": "markdown",
   "metadata": {},
   "source": [
    "Convertion de la marque"
   ]
  },
  {
   "cell_type": "code",
   "execution_count": null,
   "metadata": {},
   "outputs": [],
   "source": [
    "mark = Image.open(\"original/marque.jpg\")\n",
    "# Convert RGB image to gray scale\n",
    "mark = mark.convert('L')\n",
    "# Converting the gray scale image to binary image\n",
    "mark = mark.point(lambda x: 0 if x < 128 else 1, '1')\n",
    "# Convert binary image to numpy array\n",
    "markArray = np.array(mark.getdata(), dtype=int).reshape((mark.size[1], mark.size[0]))\n",
    "print(markArray)\n",
    "# Saving the binary image\n",
    "#mark.save('original/marqueBin.png')"
   ]
  },
  {
   "cell_type": "code",
   "execution_count": 7,
   "metadata": {},
   "outputs": [],
   "source": [
    "marque = \"original/marque.jpg\"\n",
    "marque = Image.open(marque)\n",
    "# convert to grayscale\n",
    "marque = marque.convert('L')\n",
    "\n",
    "np.set_printoptions(threshold=np.inf)\n",
    "\n",
    "#printImage(marque, \"marque.png\")\n",
    "\n",
    "# Convert the image to a numpy array\n",
    "marque = np.array(marque)\n",
    "# Convert to binary\n",
    "marque = np.where(marque > 128, 1, 0)\n",
    "#marque = marque*255\n",
    "#print(marque)\n",
    "# Save the binary image\n",
    "#printImage(marque, \"marqueBinary.png\")\n",
    "# Savve in txt file\n",
    "file = open('result/marqueBinary2.txt', 'w')\n",
    "file.write(str(marque))\n",
    "file.close()\n"
   ]
  },
  {
   "cell_type": "code",
   "execution_count": 17,
   "metadata": {},
   "outputs": [],
   "source": [
    "# Read the image stored in txt file in the form of list\n",
    "with open('original/marqueBinary.txt', 'r') as f:\n",
    "    imgListStr = f.read()\n",
    "    \n",
    "# Convert the string to list \n",
    "imgList = list(imgListStr)\n",
    "# Remove the '[' and ']' from the list\n",
    "imgList = [i for i in imgList if i != '[' and i != ']' and i != ',' and i != ' ' and i != \"\\n\" and i != \"\\t\" and i != \"\\r\" and i != \"\\x0b\" and i != \" \" and i != \"5\"]\n",
    "# Substitute the '255' by '1'\n",
    "imgList = ['1' if i == '2' else i for i in imgList]\n"
   ]
  },
  {
   "cell_type": "code",
   "execution_count": 22,
   "metadata": {},
   "outputs": [],
   "source": [
    "# Print all the elements of the list different from '1' and '0'\n",
    "for i in imgList:\n",
    "    if i != '1' and i != '0':\n",
    "        print(i)\n",
    "        \n",
    " # Add a '0' at the end of the list       \n",
    "imgList.append('0')"
   ]
  },
  {
   "cell_type": "code",
   "execution_count": 23,
   "metadata": {},
   "outputs": [],
   "source": [
    "# Reshape the list to 2D array \n",
    "imgList = np.array(imgList, dtype=int).reshape((704, 704))\n",
    "imgList = imgList.astype(int)\n",
    "\n",
    "#plt.imshow(imgList, cmap='gray')\n",
    "\n",
    "# Save the image\n",
    "plt.imsave('original/marque.png', imgList, cmap='gray')"
   ]
  },
  {
   "cell_type": "code",
   "execution_count": null,
   "metadata": {},
   "outputs": [],
   "source": [
    "file = open('result/marqueBinary2.txt', 'w')\n",
    "file.write(str(marque))\n",
    "file.close()"
   ]
  }
 ],
 "metadata": {
  "kernelspec": {
   "display_name": "Python 3",
   "language": "python",
   "name": "python3"
  },
  "language_info": {
   "codemirror_mode": {
    "name": "ipython",
    "version": 3
   },
   "file_extension": ".py",
   "mimetype": "text/x-python",
   "name": "python",
   "nbconvert_exporter": "python",
   "pygments_lexer": "ipython3",
   "version": "3.10.10"
  },
  "vscode": {
   "interpreter": {
    "hash": "7e1998ff